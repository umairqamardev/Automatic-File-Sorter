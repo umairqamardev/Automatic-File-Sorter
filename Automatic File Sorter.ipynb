{
  "metadata": {
    "kernelspec": {
      "name": "python",
      "display_name": "Python (Pyodide)",
      "language": "python"
    },
    "language_info": {
      "codemirror_mode": {
        "name": "python",
        "version": 3
      },
      "file_extension": ".py",
      "mimetype": "text/x-python",
      "name": "python",
      "nbconvert_exporter": "python",
      "pygments_lexer": "ipython3",
      "version": "3.8"
    }
  },
  "nbformat_minor": 4,
  "nbformat": 4,
  "cells": [
    {
      "cell_type": "code",
      "source": "import os, shutil",
      "metadata": {
        "trusted": true
      },
      "outputs": [],
      "execution_count": 1
    },
    {
      "cell_type": "code",
      "source": "path = r\"C:/users/umairqamar/documents/AFS/\"",
      "metadata": {
        "trusted": true
      },
      "outputs": [],
      "execution_count": 4
    },
    {
      "cell_type": "code",
      "source": "file_name = os.listdir(path)",
      "metadata": {
        "trusted": true
      },
      "outputs": [],
      "execution_count": null
    },
    {
      "cell_type": "code",
      "source": "folder_names = ['csv files', 'image files', 'text files']\n\nfor loop in range(0,3):\n    if not os.path.exists(path + folder_names[loop]):\n        os.makedirs(path + folder_names[loop])\n\nfor file in file_name:\n    if \".csv\" in file and not os.path.exists(path + \"csv files/\" + file):\n        shutil.move(path + file, path + \"csv files/\" + file])\n     elif \".png\" in file and not os.path.exists(path + \"images files/\" + file):\n        shutil.move(path + file, path + \"image file/\" + file)\n     elif \".txt\" in file and not os.path.exists(path + \"text files/\" + file):\n        shutil.move(path + file, path + \"text files/\" + file)",
      "metadata": {
        "trusted": true
      },
      "outputs": [],
      "execution_count": null
    }
  ]
}